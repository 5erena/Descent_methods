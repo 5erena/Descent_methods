{
 "cells": [
  {
   "cell_type": "code",
   "execution_count": 224,
   "metadata": {},
   "outputs": [],
   "source": [
    "import numpy as np\n",
    "from numpy import linalg as LA\n",
    "import matplotlib.pyplot as plt"
   ]
  },
  {
   "cell_type": "code",
   "execution_count": 348,
   "metadata": {},
   "outputs": [],
   "source": [
    "x_exact = np.linalg.inv(A4).dot(b)\n",
    "def steepest_descent(A, b, x0, tol, imax):\n",
    "    \"\"\"\n",
    "    Arguments:\n",
    "        A: nxn numpy matrix.\n",
    "        b: n dimensional numpy vector.\n",
    "        x0: An initial solution guess for the solver to start with.\n",
    "        tol: The maximum discrepancy acceptable to regard the current solution as fitting.\n",
    "    Returns:\n",
    "        i: final iteration number.\n",
    "        x1: solution vector of dimension n.\n",
    "        rn, n: lists of residual norms and iterations.\n",
    "        rk: final residual norm.\n",
    "    \"\"\"\n",
    "    x1 = x0\n",
    "    rn = []  # list of residual norms\n",
    "    n = []   # list of iterations\n",
    "    for i in range(imax):\n",
    "        x0 = x1\n",
    "        gk = np.dot(A,x0) - b\n",
    "        rk = -gk # residual is the negative gradient\n",
    "        n.append(i)\n",
    "        rn.append(np.linalg.norm(rk,2)) # add in the 2 norm to the list of residual norms\n",
    "        a_k = (np.transpose(gk).dot(gk))/((np.transpose(gk).dot(A)).dot(gk))\n",
    "        x1 = x0 - a_k*gk\n",
    "        xk = x0 - x_exact\n",
    "        if np.linalg.norm(rk,2) < tol:\n",
    "            return i,rk,x1,n,rn,xk\n",
    "    print('Steepest descent failed - max number of iterations reached.')\n",
    "    return i,rk,x1,n,rn,xk\n",
    "\n",
    "\n",
    "def conjugate_gradient(A, b, x0, tol, imax):\n",
    "    \"\"\"\n",
    "    Arguments:\n",
    "        A: nxn numpy matrix.\n",
    "        b: n dimensional numpy vector.\n",
    "        x0: An initial solution guess for the solver to start with.\n",
    "        tol: The maximum discrepancy acceptable to regard the current solution as fitting.\n",
    "    Returns:\n",
    "        i: final iteration number.\n",
    "        x1: solution vector of dimension n.\n",
    "        rn, n: lists of residual norms and iterations.\n",
    "        rk: final residual norm.\n",
    "    \"\"\"\n",
    "    x1 = x0\n",
    "    rn = []  # list of residual norms\n",
    "    n = []   # list of iterations\n",
    "    r0 = b\n",
    "    rk = r0\n",
    "    p0 = r0\n",
    "    p1 = p0\n",
    "    for i in range(imax):\n",
    "        x0 = x1\n",
    "        r0 = rk\n",
    "        p0 = p1\n",
    "        a_k = (np.transpose(r0).dot(r0))/((np.transpose(p0).dot(A)).dot(p0)) # step length\n",
    "        n.append(i)\n",
    "        rn.append(np.linalg.norm(rk,2)) # add in the 2 norm to the list of residual norms\n",
    "        x1 = x0 + a_k*p0\n",
    "        \n",
    "        if np.linalg.norm(rk,2) < tol:\n",
    "            return i,rk,x1,n,rn\n",
    "        rk = r0 - a_k*(A.dot(p0))\n",
    "        b_k = (np.transpose(rk).dot(rk))/(np.transpose(r0).dot(r0)) # relative residual b/w iterations\n",
    "        p1 = rk + b_k*p0 # new search direction\n",
    "    print('Conjugate gradient failed - max number of iterations reached.')\n",
    "    return i,rk,x1,n,rn"
   ]
  },
  {
   "cell_type": "code",
   "execution_count": 73,
   "metadata": {},
   "outputs": [],
   "source": [
    "# build A\n",
    "import random \n",
    "\n",
    "tau = np.array([0.01,0.05,0.1,0.2])\n",
    "A = np.zeros((500,500))\n",
    "np.fill_diagonal(A,1) #set the diagonal values to 1\n",
    "\n",
    "for i in range(500):\n",
    "    j = i + 1\n",
    "    while j > i and j < 500: #entries above the diagonal\n",
    "        random.seed() # make random numbers\n",
    "        A[i,j] = random.uniform(-1,1)\n",
    "        A[j,i] = A[i,j] #make A symmetric\n",
    "        j = j+1"
   ]
  },
  {
   "cell_type": "code",
   "execution_count": 333,
   "metadata": {},
   "outputs": [],
   "source": [
    "A1 = np.copy(A)\n",
    "for i in range(500):\n",
    "    j = i + 1\n",
    "    while j > i and j < 500: #entries above the diagonal\n",
    "        if np.abs(A1[i,j]) > tau[0]:\n",
    "            A1[i,j] = 0\n",
    "            A1[j,i] = 0\n",
    "        j = j + 1\n",
    "A2 = np.copy(A)\n",
    "for i in range(500):\n",
    "    j = i + 1\n",
    "    while j > i and j < 500: #entries above the diagonal\n",
    "        if np.abs(A2[i,j]) > tau[1]:\n",
    "            A2[i,j] = 0\n",
    "            A2[j,i] = 0\n",
    "        j = j + 1\n",
    "A3 = np.copy(A)\n",
    "for i in range(500):\n",
    "    j = i + 1\n",
    "    while j > i and j < 500: #entries above the diagonal\n",
    "        if np.abs(A3[i,j]) > tau[2]:\n",
    "            A3[i,j] = 0\n",
    "            A3[j,i] = 0\n",
    "        j = j + 1\n",
    "A4 = np.copy(A)\n",
    "for i in range(500):\n",
    "    j = i + 1\n",
    "    while j > i and j < 500: #entries above the diagonal\n",
    "        if np.abs(A4[i,j]) > tau[3]:\n",
    "            A4[i,j] = 0\n",
    "            A4[j,i] = 0\n",
    "        j = j + 1"
   ]
  },
  {
   "cell_type": "code",
   "execution_count": 75,
   "metadata": {},
   "outputs": [],
   "source": [
    "# make b a random vector \n",
    "b = np.zeros(500)\n",
    "for i in range(500):\n",
    "    random.seed()\n",
    "    b[i] = random.uniform(-1,1)\n",
    "x0 = np.zeros(500)"
   ]
  },
  {
   "cell_type": "code",
   "execution_count": 218,
   "metadata": {},
   "outputs": [
    {
     "name": "stdout",
     "output_type": "stream",
     "text": [
      "For SD, the number of iterations for:\n",
      "solving A1x=b: 5\n",
      "solving A2x=b: 14\n",
      "solving A3x=b: 78\n",
      "solving A4x=b: 999\n"
     ]
    }
   ],
   "source": [
    "print(\"For SD, the number of iterations for:\")\n",
    "print(\"solving A1x=b:\", i_1)\n",
    "print(\"solving A2x=b:\",i_2)\n",
    "print(\"solving A3x=b:\",i_3)\n",
    "print(\"solving A4x=b:\",i_4)"
   ]
  },
  {
   "cell_type": "code",
   "execution_count": 349,
   "metadata": {},
   "outputs": [
    {
     "name": "stdout",
     "output_type": "stream",
     "text": [
      "Steepest descent failed - max number of iterations reached.\n"
     ]
    },
    {
     "name": "stderr",
     "output_type": "stream",
     "text": [
      "<ipython-input-348-1bbcbdb7a7eb>:24: RuntimeWarning: invalid value encountered in double_scalars\n",
      "  a_k = (np.transpose(gk).dot(gk))/((np.transpose(gk).dot(A)).dot(gk))\n"
     ]
    },
    {
     "data": {
      "text/plain": [
       "Text(0.5, 1.0, 'Steepest Descent: Iterations vs Residuals')"
      ]
     },
     "execution_count": 349,
     "metadata": {},
     "output_type": "execute_result"
    },
    {
     "data": {
      "image/png": "[encoded data removed]",
      "text/plain": [
       "<Figure size 432x288 with 1 Axes>"
      ]
     },
     "metadata": {
      "needs_background": "light"
     },
     "output_type": "display_data"
    }
   ],
   "source": [
    "# Solve systems with Steepest Descent\n",
    "i_1, rk_1, sol_1SD, n1, rn1, xk1 = steepest_descent(A1, b, x0, 1e-7, 1000) # returns i,rk,x1,n,rn,xk\n",
    "i_2, rk_2, sol_2SD, n2, rn2, xk2 = steepest_descent(A2, b, x0, 1e-7, 1000)\n",
    "i_3, rk_3, sol_3SD, n3, rn3, xk3 = steepest_descent(A3, b, x0, 1e-7, 1000)\n",
    "i_4, rk_4, sol_4SD, n4, rn4, xk4 = steepest_descent(A4, b, x0, 1e-7, 1000)\n",
    "#plt.figure(figsize=(6,4))\n",
    "plt.semilogy(n1, rn1, label = 'tau=0.01')\n",
    "plt.semilogy(n2, rn2, label = 'tau=0.05')\n",
    "plt.semilogy(n3, rn3, label = 'tau=0.1')\n",
    "plt.semilogy(n4, rn4, label = 'tau=0.2')\n",
    "plt.xlim(0,150)\n",
    "plt.ylim(1e-8,1e50)\n",
    "plt.xlabel(r\"iteration $n$\")\n",
    "plt.ylabel(r\"residual norm $||r_n||$\")\n",
    "plt.legend( prop={'size': 12})\n",
    "plt.title(\"Steepest Descent: Iterations vs Residuals\")\n",
    "#plt.savefig('hw6-2b.pdf')"
   ]
  },
  {
   "cell_type": "code",
   "execution_count": 350,
   "metadata": {},
   "outputs": [
    {
     "data": {
      "text/plain": [
       "Text(0.5, 1.0, 'Conjugate Gradient: Iterations vs Residuals')"
      ]
     },
     "execution_count": 350,
     "metadata": {},
     "output_type": "execute_result"
    },
    {
     "data": {
      "image/png": "[encoded data removed]",
      "text/plain": [
       "<Figure size 648x288 with 1 Axes>"
      ]
     },
     "metadata": {
      "needs_background": "light"
     },
     "output_type": "display_data"
    }
   ],
   "source": [
    "# Solve systems with Conjugate Gradient\n",
    "i_1, rk_1, sol_1CG, n1, rn1 = conjugate_gradient(A1, b, x0, 1e-7, 1000) # returns i,rk,x1,n,rn\n",
    "i_2, rk_2, sol_2CG, n2, rn2 = conjugate_gradient(A2, b, x0, 1e-7, 1000)\n",
    "i_3, rk_3, sol_3CG, n3, rn3 = conjugate_gradient(A3, b, x0, 1e-7, 1000)\n",
    "i_4, rk_4, sol_4CG, n4, rn4 = conjugate_gradient(A4, b, x0, 1e-7, 1000)\n",
    "plt.figure(figsize=(9,4))\n",
    "plt.semilogy(n1, rn1, label = 'tau=0.01')\n",
    "plt.semilogy(n2, rn2, label = 'tau=0.05')\n",
    "plt.semilogy(n3, rn3, label = 'tau=0.1')\n",
    "plt.semilogy(n4, rn4, label = 'tau=0.2')\n",
    "plt.xlim(0,50)\n",
    "#plt.ylim(0,1e44)\n",
    "plt.xlabel(r\"iteration $n$\")\n",
    "plt.ylabel(r\"residual norm $||r_n||$\")\n",
    "plt.legend( prop={'size': 11})\n",
    "plt.title(\"Conjugate Gradient: Iterations vs Residuals\")\n",
    "#plt.savefig('hw6-2c2.pdf')"
   ]
  },
  {
   "cell_type": "code",
   "execution_count": 216,
   "metadata": {},
   "outputs": [
    {
     "name": "stdout",
     "output_type": "stream",
     "text": [
      "For CG, the number of iterations for:\n",
      "solving A1x=b: 5\n",
      "solving A2x=b: 10\n",
      "solving A3x=b: 28\n",
      "solving A4x=b: 766\n"
     ]
    }
   ],
   "source": [
    "print(\"For CG, the number of iterations for:\")\n",
    "print(\"solving A1x=b:\", i_1)\n",
    "print(\"solving A2x=b:\",i_2)\n",
    "print(\"solving A3x=b:\",i_3)\n",
    "print(\"solving A4x=b:\",i_4)"
   ]
  },
  {
   "cell_type": "code",
   "execution_count": 352,
   "metadata": {},
   "outputs": [
    {
     "name": "stdout",
     "output_type": "stream",
     "text": [
      "For A_4 with tau = 0.2: \n",
      "\n",
      "Max eigenvalue = 3.27564158687161\n",
      "Min eigenvalue = 0.001316950178038677\n",
      "The condition number = 2487.2934766191665\n",
      "(SD) The residual norm of our solution = nan\n",
      "(CG) The residual norm of our solution = 3.3179025162193356e-07\n",
      "The SD error bound from class = nan\n",
      "The CG error bound from class = 1.4257476264109596e-11\n"
     ]
    }
   ],
   "source": [
    "x_exact4 = np.linalg.inv(A4).dot(b)\n",
    "maxeig = max(np.abs(np.linalg.eig(A4)[0]))\n",
    "mineig = min(np.abs(np.linalg.eig(A4)[0]))\n",
    "k = np.linalg.cond(A4)\n",
    "class_boundSD = ((maxeig-mineig)/(maxeig+mineig))*(np.transpose(xk4).dot(A4).dot(xk4))\n",
    "class_boundCG = 2*((1-np.sqrt(k**(-1)))/(1+np.sqrt(k**(-1))))**i_4*(np.transpose(x_exact4).dot(A4).dot(x_exact4))\n",
    "\n",
    "print(\"For A_4 with tau = 0.2: \\n\")\n",
    "print(\"Max eigenvalue =\", maxeig)\n",
    "print(\"Min eigenvalue =\", mineig)\n",
    "print(\"The condition number =\", k)\n",
    "print(\"(SD) The residual norm of our solution =\", np.linalg.norm(x_exact4-sol_4SD))\n",
    "print(\"(CG) The residual norm of our solution =\", np.linalg.norm(x_exact4-sol_4CG))\n",
    "print(\"The SD error bound from class =\", class_boundSD)\n",
    "print(\"The CG error bound from class =\", class_boundCG)"
   ]
  },
  {
   "cell_type": "code",
   "execution_count": null,
   "metadata": {},
   "outputs": [],
   "source": []
  }
 ],
 "metadata": {
  "kernelspec": {
   "display_name": "Python 3",
   "language": "python",
   "name": "python3"
  },
  "language_info": {
   "codemirror_mode": {
    "name": "ipython",
    "version": 3
   },
   "file_extension": ".py",
   "mimetype": "text/x-python",
   "name": "python",
   "nbconvert_exporter": "python",
   "pygments_lexer": "ipython3",
   "version": "3.9.0"
  }
 },
 "nbformat": 4,
 "nbformat_minor": 4
}
